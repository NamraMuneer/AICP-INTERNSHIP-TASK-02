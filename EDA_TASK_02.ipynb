{
  "nbformat": 4,
  "nbformat_minor": 0,
  "metadata": {
    "colab": {
      "provenance": []
    },
    "kernelspec": {
      "name": "python3",
      "display_name": "Python 3"
    },
    "language_info": {
      "name": "python"
    }
  },
  "cells": [
    {
      "cell_type": "markdown",
      "source": [
        "AICP INTERNSHIP TASK02"
      ],
      "metadata": {
        "id": "YhF060_4jShz"
      }
    },
    {
      "cell_type": "markdown",
      "source": [
        "1. Writer pandas series code to get following output without using dictionary: a 1 x 4 c 9 2 6 e 7 dtype: int64"
      ],
      "metadata": {
        "id": "B2oWcaPJjYLM"
      }
    },
    {
      "cell_type": "code",
      "source": [
        "import pandas as pd\n",
        "\n",
        "data = [1, 4, 9, 6, 7]\n",
        "index = ['a', 'x', 'c', '2', 'e']\n",
        "series = pd.Series(data, index=index)\n",
        "print(series)\n"
      ],
      "metadata": {
        "colab": {
          "base_uri": "https://localhost:8080/"
        },
        "id": "nU4DdvH4e6DH",
        "outputId": "daf94751-d84d-4813-bb37-785676f85898"
      },
      "execution_count": 12,
      "outputs": [
        {
          "output_type": "stream",
          "name": "stdout",
          "text": [
            "a    1\n",
            "x    4\n",
            "c    9\n",
            "2    6\n",
            "e    7\n",
            "dtype: int64\n"
          ]
        }
      ]
    },
    {
      "cell_type": "markdown",
      "source": [
        "2. Writer pandas series code to get following output using dictionary\n",
        "Bilal  42\n",
        "Ayesha 38\n",
        "Hadia  39\n",
        "dtype: int64"
      ],
      "metadata": {
        "id": "gCCuh22ZfSBJ"
      }
    },
    {
      "cell_type": "code",
      "source": [
        "import pandas as pd\n",
        "\n",
        "data = {'Bilal': 42, 'Ayesha': 38, 'Hadia': 39}\n",
        "series = pd.Series(data)\n",
        "print(series)\n"
      ],
      "metadata": {
        "colab": {
          "base_uri": "https://localhost:8080/"
        },
        "id": "wFtPWHHue6sJ",
        "outputId": "2d7a5f60-30a8-4315-83e2-45e99b6ef842"
      },
      "execution_count": 13,
      "outputs": [
        {
          "output_type": "stream",
          "name": "stdout",
          "text": [
            "Bilal     42\n",
            "Ayesha    38\n",
            "Hadia     39\n",
            "dtype: int64\n"
          ]
        }
      ]
    },
    {
      "cell_type": "markdown",
      "source": [
        "3. Write pandas dataframe code to get following output using python dictionary\n"
      ],
      "metadata": {
        "id": "rgY589QUfc6K"
      }
    },
    {
      "cell_type": "code",
      "source": [
        "import pandas as pd\n",
        "\n",
        "data = {\n",
        "    'day': ['1/1/2017', '1/2/2017', '1/3/2017', '1/4/2017', '1/5/2017', '1/6/2017'],\n",
        "    'temperature': [32, 35, 28, 24, 32, 31],\n",
        "    'windspeed': [6, 7, 2, 7, 4, 2],\n",
        "    'event': ['Rain', 'Sunny', 'Snow', 'Snow', 'Rain', 'Sunny']\n",
        "}\n",
        "\n",
        "df = pd.DataFrame(data)\n",
        "print(df)\n"
      ],
      "metadata": {
        "colab": {
          "base_uri": "https://localhost:8080/"
        },
        "id": "rg5xu716e65f",
        "outputId": "311d4a49-05df-476e-b6f4-c23c5bf06c70"
      },
      "execution_count": 14,
      "outputs": [
        {
          "output_type": "stream",
          "name": "stdout",
          "text": [
            "        day  temperature  windspeed  event\n",
            "0  1/1/2017           32          6   Rain\n",
            "1  1/2/2017           35          7  Sunny\n",
            "2  1/3/2017           28          2   Snow\n",
            "3  1/4/2017           24          7   Snow\n",
            "4  1/5/2017           32          4   Rain\n",
            "5  1/6/2017           31          2  Sunny\n"
          ]
        }
      ]
    },
    {
      "cell_type": "markdown",
      "source": [
        "4. In extension to above question, you are required to replace index by ['a','b','c','d','e','f']"
      ],
      "metadata": {
        "id": "NWXhAzT5fwP6"
      }
    },
    {
      "cell_type": "code",
      "source": [
        "import pandas as pd\n",
        "\n",
        "data = {\n",
        "    'day': ['1/1/2017', '1/2/2017', '1/3/2017', '1/4/2017', '1/5/2017', '1/6/2017'],\n",
        "    'temperature': [32, 35, 28, 24, 32, 31],\n",
        "    'windspeed': [6, 7, 2, 7, 4, 2],\n",
        "    'event': ['Rain', 'Sunny', 'Snow', 'Snow', 'Rain', 'Sunny']\n",
        "}\n",
        "\n",
        "df = pd.DataFrame(data)\n",
        "df.index = ['a', 'b', 'c', 'd', 'e', 'f']  # Setting custom index\n",
        "print(df)\n"
      ],
      "metadata": {
        "colab": {
          "base_uri": "https://localhost:8080/"
        },
        "id": "Isu-lL4qe-WO",
        "outputId": "15b46f53-27a3-47fc-993b-9735fb0c087e"
      },
      "execution_count": 15,
      "outputs": [
        {
          "output_type": "stream",
          "name": "stdout",
          "text": [
            "        day  temperature  windspeed  event\n",
            "a  1/1/2017           32          6   Rain\n",
            "b  1/2/2017           35          7  Sunny\n",
            "c  1/3/2017           28          2   Snow\n",
            "d  1/4/2017           24          7   Snow\n",
            "e  1/5/2017           32          4   Rain\n",
            "f  1/6/2017           31          2  Sunny\n"
          ]
        }
      ]
    },
    {
      "cell_type": "markdown",
      "source": [
        "5. In extension to above question calculate mean, miximum and minimum for label “temperature”"
      ],
      "metadata": {
        "id": "RZqdKCcVf6dp"
      }
    },
    {
      "cell_type": "code",
      "source": [
        "import pandas as pd\n",
        "\n",
        "data = {\n",
        "    'day': ['1/1/2017', '1/2/2017', '1/3/2017', '1/4/2017', '1/5/2017', '1/6/2017'],\n",
        "    'temperature': [32, 35, 28, 24, 32, 31],\n",
        "    'windspeed': [6, 7, 2, 7, 4, 2],\n",
        "    'event': ['Rain', 'Sunny', 'Snow', 'Snow', 'Rain', 'Sunny']\n",
        "}\n",
        "\n",
        "df = pd.DataFrame(data)\n",
        "df.index = ['a', 'b', 'c', 'd', 'e', 'f']  # Setting custom index\n",
        "\n",
        "temperature_mean = df['temperature'].mean()\n",
        "temperature_max = df['temperature'].max()\n",
        "temperature_min = df['temperature'].min()\n",
        "\n",
        "print(\"Mean temperature:\", temperature_mean)\n",
        "print(\"Maximum temperature:\", temperature_max)\n",
        "print(\"Minimum temperature:\", temperature_min)\n"
      ],
      "metadata": {
        "colab": {
          "base_uri": "https://localhost:8080/"
        },
        "id": "wYVnLjpGgG9s",
        "outputId": "db078c0f-3f62-4089-c7c5-5e8ecb7717a3"
      },
      "execution_count": 16,
      "outputs": [
        {
          "output_type": "stream",
          "name": "stdout",
          "text": [
            "Mean temperature: 30.333333333333332\n",
            "Maximum temperature: 35\n",
            "Minimum temperature: 24\n"
          ]
        }
      ]
    },
    {
      "cell_type": "markdown",
      "source": [
        "6. Import CSV ‘people.csv’ in the given folder. Keep in mind the following instructions:\n",
        "You’re required to import only specific columns [\"First Name\", \"Sex\", \"Email\", “Phone”, “Job Title”]\n",
        "Set the following columns [\"Sex\", \"Job Title\"] as index columns\n",
        "Skip following rows [1,5]\n",
        "Export the CSV as “NewPeople.csv”"
      ],
      "metadata": {
        "id": "1GI36EpBggwU"
      }
    },
    {
      "cell_type": "code",
      "source": [
        "import pandas as pd\n",
        "#imported the pandas library"
      ],
      "metadata": {
        "id": "CTY3UR4te-jm"
      },
      "execution_count": 10,
      "outputs": []
    },
    {
      "cell_type": "code",
      "source": [
        "data = pd.read_csv('people.csv', usecols=[\"First Name\", \"Sex\", \"Email\", \"Phone\", \"Job Title\"], skiprows=[1, 5])\n",
        "\n",
        "# Set 'Sex' and 'Job Title' columns as index columns\n",
        "data.set_index([\"Sex\", \"Job Title\"], inplace=True)\n",
        "\n",
        "# Export the DataFrame to a new CSV file\n",
        "data.to_csv('NewPeople.csv')"
      ],
      "metadata": {
        "id": "KO3cnQq6esr-"
      },
      "execution_count": 11,
      "outputs": []
    },
    {
      "cell_type": "markdown",
      "source": [
        "7. Import excel sheet ‘SampleWork.xlsx’ in the given folder. Keep in mind the following instructions:\n",
        "Import sheet 1\n",
        "Import only first and last column from sheet 1\n",
        "Skip row 2 while importing the sheet\n",
        "Set row 2 as header\n",
        "export as new sheet."
      ],
      "metadata": {
        "id": "bkM5wVfjgSYt"
      }
    },
    {
      "cell_type": "code",
      "source": [
        "import pandas as pd\n",
        "\n",
        "# Importing Excel sheet and specifying columns and header\n",
        "df = pd.read_excel('SampleWork.xlsx', sheet_name=0, usecols=[0, -1], header=1, skiprows=[1])\n",
        "\n",
        "# Exporting DataFrame to a new Excel sheet\n",
        "df.to_excel('NewSampleWork.xlsx', index=False)\n"
      ],
      "metadata": {
        "id": "K-t_5TblhUCQ"
      },
      "execution_count": 18,
      "outputs": []
    },
    {
      "cell_type": "markdown",
      "source": [
        "8. Create the following dataframe as AICP_DF then implement different operations as described below:\n",
        "select 'Name', 'Qualification' coloumns and save to df1\n",
        "add a new column to AICP_DF “Height” with the following values: [5.1, 6.2, 5.1, 5.2,5.1]\n",
        "set column “Name” as the index column.\n",
        "retrieve row with index “Hifza”\n",
        "retrieve row with index 3\n",
        "drop row with index “Bilal\"\n"
      ],
      "metadata": {
        "id": "NvERMHdci7KL"
      }
    },
    {
      "cell_type": "code",
      "source": [
        "import pandas as pd\n",
        "\n",
        "# Creating the DataFrame AICP_DF\n",
        "data = {\n",
        "    'Name': ['Sonia', 'Bilal', 'Hifza', 'Kabir', 'Jazim'],\n",
        "    'Age': [27, 24, 22, 32, 23],\n",
        "    'Address': ['Lahore', 'Karachi', 'Sialkot', 'Peshawar', 'Ihr'],\n",
        "    'Qualification': ['Msc', 'MA', 'MCA', 'Phd', 'Bsc']\n",
        "}\n",
        "\n",
        "AICP_DF = pd.DataFrame(data)\n",
        "\n",
        "# Selecting 'Name' and 'Qualification' columns and saving to df1\n",
        "df1 = AICP_DF[['Name', 'Qualification']]\n",
        "\n",
        "# Adding a new column \"Height\" to AICP_DF\n",
        "AICP_DF['Height'] = [5.1, 6.2, 5.1, 5.2, 5.1]\n",
        "\n",
        "# Setting column \"Name\" as the index column\n",
        "AICP_DF.set_index('Name', inplace=True)\n",
        "\n",
        "# Retrieving row with index \"Hifza\"\n",
        "row_hifza = AICP_DF.loc['Hifza']\n",
        "\n",
        "# Retrieving row with index 3\n",
        "row_index_3 = AICP_DF.iloc[2]\n",
        "\n",
        "# Dropping row with index \"Bilal\"\n",
        "AICP_DF.drop(index='Bilal', inplace=True)\n",
        "\n",
        "print(\"AICP_DF:\")\n",
        "print(AICP_DF)\n",
        "print(\"\\nSelected 'Name' and 'Qualification' columns saved to df1:\")\n",
        "print(df1)\n",
        "print(\"\\nRow with index 'Hifza':\")\n",
        "print(row_hifza)\n",
        "print(\"\\nRow with index 3:\")\n",
        "print(row_index_3)\n"
      ],
      "metadata": {
        "colab": {
          "base_uri": "https://localhost:8080/"
        },
        "id": "Rw0UZHocjBs9",
        "outputId": "fc07cdb5-664b-41e8-9f38-6b783ea915af"
      },
      "execution_count": 19,
      "outputs": [
        {
          "output_type": "stream",
          "name": "stdout",
          "text": [
            "AICP_DF:\n",
            "       Age   Address Qualification  Height\n",
            "Name                                      \n",
            "Sonia   27    Lahore           Msc     5.1\n",
            "Hifza   22   Sialkot           MCA     5.1\n",
            "Kabir   32  Peshawar           Phd     5.2\n",
            "Jazim   23       Ihr           Bsc     5.1\n",
            "\n",
            "Selected 'Name' and 'Qualification' columns saved to df1:\n",
            "    Name Qualification\n",
            "0  Sonia           Msc\n",
            "1  Bilal            MA\n",
            "2  Hifza           MCA\n",
            "3  Kabir           Phd\n",
            "4  Jazim           Bsc\n",
            "\n",
            "Row with index 'Hifza':\n",
            "Age                   22\n",
            "Address          Sialkot\n",
            "Qualification        MCA\n",
            "Height               5.1\n",
            "Name: Hifza, dtype: object\n",
            "\n",
            "Row with index 3:\n",
            "Age                   22\n",
            "Address          Sialkot\n",
            "Qualification        MCA\n",
            "Height               5.1\n",
            "Name: Hifza, dtype: object\n"
          ]
        }
      ]
    }
  ]
}